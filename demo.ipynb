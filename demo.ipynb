{
 "cells": [
  {
   "cell_type": "code",
   "execution_count": 1,
   "metadata": {},
   "outputs": [],
   "source": [
    "from PIL import Image\n",
    "\n",
    "# 打开图片\n",
    "image = Image.open(\"logo.png\")  # 替换为你的图片路径\n",
    "\n",
    "# 将图片转换为RGBA模式，以确保我们能处理透明度\n",
    "image = image.convert(\"RGBA\")\n",
    "\n",
    "# 加载图片数据\n",
    "data = image.getdata()\n",
    "\n",
    "# 创建一个新的图像数据列表\n",
    "new_data = []\n",
    "for item in data:\n",
    "    # 如果像素是透明的，则保留原样\n",
    "    if item[3] == 0:\n",
    "        new_data.append(item)\n",
    "    # 如果像素不透明，则将其变为白色\n",
    "    else:\n",
    "        new_data.append((255, 255, 255, 255))\n",
    "\n",
    "# 将新的图片数据写入图片\n",
    "image.putdata(new_data)\n",
    "\n",
    "# 保存或显示图片\n",
    "image.save(\"white_logo.png\")  # 替换为你想要保存的路径\n",
    "image.show()"
   ]
  }
 ],
 "metadata": {
  "kernelspec": {
   "display_name": "datl",
   "language": "python",
   "name": "python3"
  },
  "language_info": {
   "codemirror_mode": {
    "name": "ipython",
    "version": 3
   },
   "file_extension": ".py",
   "mimetype": "text/x-python",
   "name": "python",
   "nbconvert_exporter": "python",
   "pygments_lexer": "ipython3",
   "version": "3.9.16"
  }
 },
 "nbformat": 4,
 "nbformat_minor": 2
}
